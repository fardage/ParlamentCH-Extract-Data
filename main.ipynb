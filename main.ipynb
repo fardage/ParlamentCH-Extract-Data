{
 "cells": [
  {
   "cell_type": "markdown",
   "source": [
    "# Parlament.ch Curia Extration"
   ],
   "metadata": {}
  },
  {
   "cell_type": "markdown",
   "source": [
    "**Curia Helper Class**"
   ],
   "metadata": {}
  },
  {
   "cell_type": "code",
   "execution_count": 1,
   "source": [
    "class Curia:\n",
    "    def __init__(self, i, d, t, ti, c, a, g, ):\n",
    "        self.id = i\n",
    "        self.date = d\n",
    "        self.type = t\n",
    "        self.title = ti\n",
    "        self.categories = c\n",
    "        self.author = a\n",
    "        self.gender = g\n",
    "\n",
    "    def __str__(self):\n",
    "        return \"Number: {}\\nDate: {}\\nType: {}\\nTitle: {}\\nCategories: {}\\nAuthor: {}\\nGender: {}\" \\\n",
    "            .format(self.id, self.date, self.type, self.title, self.categories, self.author, self.gender)\n",
    "\n",
    "    def to_dict(self):\n",
    "        return {\n",
    "            'number': self.id,\n",
    "            'date': self.date,\n",
    "            'type': self.type,\n",
    "            'title': self.title,\n",
    "            'categories': np.array(self.categories),\n",
    "            'author': self.author,\n",
    "            'gender': self.gender,\n",
    "        }"
   ],
   "outputs": [],
   "metadata": {}
  },
  {
   "cell_type": "markdown",
   "source": [
    "**Init Chrome & Gender Guesser**"
   ],
   "metadata": {}
  },
  {
   "cell_type": "code",
   "execution_count": 2,
   "source": [
    "from selenium import webdriver\n",
    "import gender_guesser.detector as gender\n",
    "import os\n",
    "\n",
    "chromeDriverPath = \"\"\n",
    "if os.name == \"nt\":\n",
    "    chromeDriverPath = \".\\\\chromedriver.exe\"\n",
    "else:\n",
    "    chromeDriverPath = \"./chromedriver\"\n",
    "driver = webdriver.Chrome(chromeDriverPath)\n",
    "\n",
    "gd = gender.Detector()"
   ],
   "outputs": [],
   "metadata": {}
  },
  {
   "cell_type": "markdown",
   "source": [
    "**Fetch Data & Parse**"
   ],
   "metadata": {}
  },
  {
   "cell_type": "code",
   "execution_count": 3,
   "source": [
    "startId = 20214313\n",
    "endId = 20214300\n",
    "\n",
    "curiaList = []\n",
    "\n",
    "for affairId in range(startId, endId, -1):\n",
    "    # Fetch\n",
    "    url = \"https://www.parlament.ch/de/ratsbetrieb/suche-curia-vista/geschaeft?AffairId=\" + str(affairId)\n",
    "    driver.get(url)\n",
    "    driver.implicitly_wait(50)\n",
    "\n",
    "    try:\n",
    "        # Extract\n",
    "        id = driver.find_element_by_xpath(\n",
    "            \"/html/body/form/div[4]/div/div/div[5]/div[1]/div[1]/div[2]/div/div/div/div[2]/div[1]/article/div[1]/header/span[1]\"\n",
    "        ).text\n",
    "\n",
    "        date = driver.find_element_by_xpath(\n",
    "            \"/html/body/form/div[4]/div/div/div[5]/div[1]/div[1]/div[2]/div/div/div/div[2]/div[1]/article/div[2]/div[3]/div\"\n",
    "        ).text\n",
    "\n",
    "        type = driver.find_element_by_xpath(\n",
    "            \"/html/body/form/div[4]/div/div/div[5]/div[1]/div[1]/div[2]/div/div/div/div[2]/div[1]/article/div[1]/header/span[2]\"\n",
    "        ).text\n",
    "\n",
    "        title = driver.find_element_by_xpath(\n",
    "            \"/html/body/form/div[4]/div/div/div[5]/div[1]/div[1]/div[2]/div/div/div/div[2]/div[1]/article/div[1]/header/h2\"\n",
    "        ).text\n",
    "\n",
    "        personFullName = driver.find_element_by_xpath(\n",
    "            \"/html/body/form/div[4]/div/div/div[5]/div[1]/div[1]/div[2]/div/div/div/div[2]/div[1]/article/div[2]/div[1]/div/a[2]\"\n",
    "        ).text\n",
    "\n",
    "        categoryElements = driver.find_element_by_xpath(\n",
    "            \"/html/body/form/div[4]/div/div/div[5]/div[1]/div[1]/div[2]/div/div/div/div[2]/div[5]/div/div[2]/div[2]/div/div[5]/p\"\n",
    "        ).find_elements_by_tag_name(\"span\")\n",
    "        categories = [c.text for c in categoryElements]\n",
    "\n",
    "        # Identify\n",
    "        author = personFullName.title()\n",
    "        nameSplit = author.split()\n",
    "        firstName = nameSplit[len(nameSplit) - 1]\n",
    "        gender = gd.get_gender(firstName)\n",
    "\n",
    "        # Store\n",
    "        curiaList.append(Curia(id, date, type, title, categories, author, gender))\n",
    "    except:\n",
    "        print(\"Error on: \" + url)\n",
    "\n",
    "driver.close()"
   ],
   "outputs": [],
   "metadata": {}
  },
  {
   "cell_type": "markdown",
   "source": [
    "**Save Extracted Data As Stata File**"
   ],
   "metadata": {}
  },
  {
   "cell_type": "code",
   "execution_count": 4,
   "source": [
    "import feather\n",
    "import pandas as pd\n",
    "import numpy as np\n",
    "\n",
    "curiaDataFrame = pd.DataFrame.from_records([c.to_dict() for c in curiaList])\n",
    "\n",
    "feather.write_dataframe(curiaDataFrame, \"./curia.feather\")"
   ],
   "outputs": [],
   "metadata": {}
  },
  {
   "cell_type": "code",
   "execution_count": null,
   "source": [],
   "outputs": [],
   "metadata": {}
  }
 ],
 "metadata": {
  "kernelspec": {
   "display_name": "Python 3 (ipykernel)",
   "language": "python",
   "name": "python3"
  },
  "language_info": {
   "codemirror_mode": {
    "name": "ipython",
    "version": 3
   },
   "file_extension": ".py",
   "mimetype": "text/x-python",
   "name": "python",
   "nbconvert_exporter": "python",
   "pygments_lexer": "ipython3",
   "version": "3.9.7"
  }
 },
 "nbformat": 4,
 "nbformat_minor": 1
}